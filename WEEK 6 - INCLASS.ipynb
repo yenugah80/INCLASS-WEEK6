{
 "cells": [
  {
   "cell_type": "code",
   "execution_count": 1,
   "metadata": {},
   "outputs": [
    {
     "name": "stdout",
     "output_type": "stream",
     "text": [
      "Kaggle CLI is already installed.\n",
      "Please place your 'kaggle.json' file in the following directory:\n",
      "C:\\Users\\harik\\.kaggle\n",
      "You can create the API token from your Kaggle account settings.\n",
      "An error occurred while downloading the competition data:\n",
      "Command '['kaggle', 'competitions', 'download', '-c', 'child-mind-institute-problematic-internet-use']' returned non-zero exit status 1.\n",
      "An error occurred while unzipping the files:\n",
      "[Errno 2] No such file or directory: 'child-mind-institute-problematic-internet-use.zip'\n"
     ]
    }
   ],
   "source": [
    "# Import necessary libraries\n",
    "import os\n",
    "import subprocess\n",
    "import sys\n",
    "import zipfile\n",
    "\n",
    "# Function to install packages\n",
    "def install(package):\n",
    "    subprocess.check_call([sys.executable, \"-m\", \"pip\", \"install\", package])\n",
    "\n",
    "# Install Kaggle CLI if not already installed\n",
    "try:\n",
    "    import kaggle\n",
    "    print(\"Kaggle CLI is already installed.\")\n",
    "except ImportError:\n",
    "    print(\"Kaggle CLI not found. Installing...\")\n",
    "    install('kaggle')\n",
    "\n",
    "# Ensure the .kaggle directory exists\n",
    "kaggle_dir = os.path.join(os.path.expanduser(\"~\"), \".kaggle\")\n",
    "if not os.path.exists(kaggle_dir):\n",
    "    os.makedirs(kaggle_dir)\n",
    "    print(f\"Created directory: {kaggle_dir}\")\n",
    "\n",
    "# Provide instructions to set up the Kaggle API token\n",
    "print(\"Please place your 'kaggle.json' file in the following directory:\")\n",
    "print(kaggle_dir)\n",
    "print(\"You can create the API token from your Kaggle account settings.\")\n",
    "\n",
    "# Wait for user to place kaggle.json\n",
    "input(\"Press Enter after you have placed 'kaggle.json' in the .kaggle directory...\")\n",
    "\n",
    "# Download the competition data\n",
    "try:\n",
    "    subprocess.check_call(['kaggle', 'competitions', 'download', '-c', 'child-mind-institute-problematic-internet-use'])\n",
    "    print(\"Download completed.\")\n",
    "except Exception as e:\n",
    "    print(\"An error occurred while downloading the competition data:\")\n",
    "    print(e)\n",
    "\n",
    "# Unzip the downloaded file\n",
    "try:\n",
    "    with zipfile.ZipFile('child-mind-institute-problematic-internet-use.zip', 'r') as zip_ref:\n",
    "        zip_ref.extractall('.')\n",
    "    print(\"Files extracted.\")\n",
    "except Exception as e:\n",
    "    print(\"An error occurred while unzipping the files:\")\n",
    "    print(e)\n"
   ]
  },
  {
   "cell_type": "code",
   "execution_count": null,
   "metadata": {},
   "outputs": [],
   "source": []
  }
 ],
 "metadata": {
  "kernelspec": {
   "display_name": "Python 3",
   "language": "python",
   "name": "python3"
  },
  "language_info": {
   "codemirror_mode": {
    "name": "ipython",
    "version": 3
   },
   "file_extension": ".py",
   "mimetype": "text/x-python",
   "name": "python",
   "nbconvert_exporter": "python",
   "pygments_lexer": "ipython3",
   "version": "3.12.4"
  }
 },
 "nbformat": 4,
 "nbformat_minor": 2
}
